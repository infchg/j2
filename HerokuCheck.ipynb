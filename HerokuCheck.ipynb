{
 "cells": [
  {
   "cell_type": "raw",
   "metadata": {},
   "source": [
    "# The J2 Heroku Cloud Check! \n",
    "\n",
    "mainly coded in Go however this Ipython let you explore or import checks: "
   ]
  },
  {
   "cell_type": "code",
   "execution_count": 26,
   "metadata": {},
   "outputs": [],
   "source": [
    "%matplotlib inline\n",
    "from ipywidgets import interactive, fixed"
   ]
  },
  {
   "cell_type": "code",
   "execution_count": 27,
   "metadata": {},
   "outputs": [
    {
     "name": "stdout",
     "output_type": "stream",
     "text": [
      "[0, 1, 2, 3, 5, 7, 9, 11, 13]\n"
     ]
    }
   ],
   "source": [
    "x = [0,1,2,3,5,7,9,11,13]\n",
    "print (x)"
   ]
  },
  {
   "cell_type": "raw",
   "metadata": {
    "jupyter": {
     "source_hidden": true
    }
   },
   "source": [
    "Can save here our maths and differential equations:\n",
    "$$ \\beta / \\rho $$\n",
    "\\begin{eqnarray}\n",
    "\\nabla \\times \\vec{\\mathbf{B}} -\\, \\frac1c\\, \\frac{\\partial\\vec{\\mathbf{E}}}{\\partial t} & = \\frac{4\\pi}{c}\\vec{\\mathbf{j}} \\\\\n",
    "\\nabla \\cdot \\vec{\\mathbf{E}} & = 4 \\pi \\rho \\\\\n",
    "\\nabla \\times \\vec{\\mathbf{E}}\\, +\\, \\frac1c\\, \\frac{\\partial\\vec{\\mathbf{B}}}{\\partial t} & = \\vec{\\mathbf{0}} \\\\\n",
    "\\nabla \\cdot \\vec{\\mathbf{B}} & = 0\n",
    "\\end{eqnarray}"
   ]
  },
  {
   "cell_type": "code",
   "execution_count": 28,
   "metadata": {},
   "outputs": [
    {
     "name": "stdout",
     "output_type": "stream",
     "text": [
      " just be careful to keep minimal bash   ['Linux jupyter-jupyterlab-2djupyterlab-2ddemo-2djjlv56aj 4.14.127+ #1 SMP Tue Jun 18 23:08:40 PDT 2019 x86_64 x86_64 x86_64 GNU/Linux'] ['big.csv', 'data', 'jupyterlab.md', 'jupyterlab-slides.pdf', 'Lorenz.ipynb', 'lorenz.py', 'markdown_python.md', 'notebooks', '__pycache__', 'TCGA_Data']\n"
     ]
    }
   ],
   "source": [
    "a= !uname -a  # ps -edalf\n",
    "b= !ls\n",
    "print (  \"\"\" just be careful to keep minimal bash  \"\"\" , a, b)"
   ]
  },
  {
   "cell_type": "code",
   "execution_count": 20,
   "metadata": {},
   "outputs": [
    {
     "data": {
      "text/latex": [
       "\\begin{eqnarray}\n",
       "\\dot{x} & = 2\\pi\\lambda +\\sigma(y-x) \\times  \n",
       "\\end{eqnarray}\n"
      ],
      "text/plain": [
       "<IPython.core.display.Latex object>"
      ]
     },
     "metadata": {},
     "output_type": "display_data"
    }
   ],
   "source": [
    " %%latex\n",
    "\\begin{eqnarray}\n",
    "\\dot{x} & = 2\\pi\\lambda +\\sigma(y-x) \\times  \n",
    "\\end{eqnarray}"
   ]
  }
 ],
 "metadata": {
  "kernelspec": {
   "display_name": "Python 3",
   "language": "python",
   "name": "python3"
  },
  "language_info": {
   "codemirror_mode": {
    "name": "ipython",
    "version": 3
   },
   "file_extension": ".py",
   "mimetype": "text/x-python",
   "name": "python",
   "nbconvert_exporter": "python",
   "pygments_lexer": "ipython3",
   "version": "3.7.3"
  }
 },
 "nbformat": 4,
 "nbformat_minor": 4
}
